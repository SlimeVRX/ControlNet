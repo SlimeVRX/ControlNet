{
  "cells": [
    {
      "cell_type": "markdown",
      "metadata": {
        "id": "view-in-github",
        "colab_type": "text"
      },
      "source": [
        "<a href=\"https://colab.research.google.com/github/mili-inch/ControlNet/blob/main/controlnet_colab_blender.ipynb\" target=\"_parent\"><img src=\"https://colab.research.google.com/assets/colab-badge.svg\" alt=\"Open In Colab\"/></a>"
      ]
    },
    {
      "cell_type": "markdown",
      "source": [
        "# このColabは以下のアドオンで出力されたjsonファイルから動画を生成します\n",
        "# This Colab generates video from json file exported with this addon\n",
        "\n",
        "# https://tonimono.gumroad.com/l/ltpaz\n",
        "\n",
        "# https://tonimono.booth.pm/items/4548229\n",
        "\n",
        "# サンプルのjsonが設定されているので、テスト目的に使ってください\n",
        "# A sample json is set up and can be used for testing."
      ],
      "metadata": {
        "id": "p20PKSZu-pr0"
      }
    },
    {
      "cell_type": "code",
      "execution_count": null,
      "metadata": {
        "id": "Z0Uf4z6JUD4r"
      },
      "outputs": [],
      "source": [
        "# adopted from https://github.com/camenduru/controlnet-colab.\n",
        "\n",
        "!sudo apt-get install aria2\n",
        "!git clone https://github.com/mili-inch/ControlNet\n",
        "!pip install -q gradio==3.16.2 timm==0.6.12 addict==2.4.0 yapf==0.32.0 pytorch-lightning==1.9.1 einops==0.3.0 open_clip_torch==2.0.2 omegaconf==2.1.1 transformers==4.19.2 --pre xformers triton\n",
        "\n",
        "!aria2c --console-log-level=error -c -x 16 -k 1M -s 16 https://huggingface.co/ckpt/ControlNet/resolve/main/control_sd15_openpose.pth -d /content/ControlNet/models -o control_sd15_openpose.pth\n",
        "\n",
        "!sed -i \"s@block.launch(server_name='0.0.0.0')@block.launch(debug=True, share=True)@\" /content/ControlNet/gradio_pose2image_blender.py\n",
        "\n",
        "%cd /content/ControlNet\n",
        "gradio_link = \"gradio_pose2image_blender.py\"\n",
        "!python {gradio_link}"
      ]
    }
  ],
  "metadata": {
    "accelerator": "GPU",
    "colab": {
      "provenance": [],
      "include_colab_link": true
    },
    "gpuClass": "standard",
    "kernelspec": {
      "display_name": "Python 3",
      "name": "python3"
    },
    "language_info": {
      "name": "python"
    }
  },
  "nbformat": 4,
  "nbformat_minor": 0
}